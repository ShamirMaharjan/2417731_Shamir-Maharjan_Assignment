{
 "cells": [
  {
   "cell_type": "code",
   "execution_count": 1,
   "id": "f72a8d8d-63f2-413c-9a31-94b897c243dd",
   "metadata": {},
   "outputs": [],
   "source": [
    "import numpy as np;\n",
    "import pandas as pd;\n",
    "import matplotlib.pyplot as plt;\n"
   ]
  },
  {
   "cell_type": "markdown",
   "id": "b1628077-cd4a-48a1-99be-6f5e47141a30",
   "metadata": {},
   "source": [
    "1. Data Exploration and Understanding:"
   ]
  },
  {
   "cell_type": "markdown",
   "id": "85c31420-e5e7-4ecb-b97d-27895dd889ea",
   "metadata": {},
   "source": [
    "• Dataset Overview:"
   ]
  },
  {
   "cell_type": "markdown",
   "id": "7a9a9cdd-c2c0-4ebf-801e-bbdc697e7919",
   "metadata": {},
   "source": [
    "1. Load the dataset and display the first 10 rows."
   ]
  },
  {
   "cell_type": "code",
   "execution_count": 2,
   "id": "071477ae-1235-4488-b252-2dfe5c619f28",
   "metadata": {},
   "outputs": [
    {
     "name": "stdout",
     "output_type": "stream",
     "text": [
      "  Country name  score  Log GDP per capita  Social support  \\\n",
      "0      Finland  7.741               1.844           1.572   \n",
      "1      Denmark  7.583               1.908           1.520   \n",
      "2      Iceland  7.525               1.881           1.617   \n",
      "3       Sweden  7.344               1.878           1.501   \n",
      "4       Israel  7.341               1.803           1.513   \n",
      "5  Netherlands  7.319               1.901           1.462   \n",
      "6       Norway  7.302               1.952           1.517   \n",
      "7   Luxembourg  7.122               2.141           1.355   \n",
      "8  Switzerland  7.060               1.970           1.425   \n",
      "9    Australia  7.057               1.854           1.461   \n",
      "\n",
      "   Healthy life expectancy  Freedom to make life choices  Generosity  \\\n",
      "0                    0.695                         0.859       0.142   \n",
      "1                    0.699                         0.823       0.204   \n",
      "2                    0.718                         0.819       0.258   \n",
      "3                    0.724                         0.838       0.221   \n",
      "4                    0.740                         0.641       0.153   \n",
      "5                    0.706                         0.725       0.247   \n",
      "6                    0.704                         0.835       0.224   \n",
      "7                    0.708                         0.801       0.146   \n",
      "8                    0.747                         0.759       0.173   \n",
      "9                    0.692                         0.756       0.225   \n",
      "\n",
      "   Perceptions of corruption  Dystopia + residual  \n",
      "0                      0.546                2.082  \n",
      "1                      0.548                1.881  \n",
      "2                      0.182                2.050  \n",
      "3                      0.524                1.658  \n",
      "4                      0.193                2.298  \n",
      "5                      0.372                1.906  \n",
      "6                      0.484                1.586  \n",
      "7                      0.432                1.540  \n",
      "8                      0.498                1.488  \n",
      "9                      0.323                1.745  \n"
     ]
    }
   ],
   "source": [
    "df = pd.read_csv(r\"C:\\Users\\LOQ\\datasets\\WHR-2024-5CS037.csv\");\n",
    "\n",
    "print(df.head(10))"
   ]
  },
  {
   "cell_type": "markdown",
   "id": "82cd903f-c52b-44fd-92e9-1e20a22d94ff",
   "metadata": {},
   "source": [
    "2. Identify the number of rows and columns in the dataset."
   ]
  },
  {
   "cell_type": "code",
   "execution_count": 3,
   "id": "d273b20c-09f0-4414-ab36-ca8252826c81",
   "metadata": {},
   "outputs": [
    {
     "name": "stdout",
     "output_type": "stream",
     "text": [
      "The DataFrame has 143 rows and 9 columns.\n"
     ]
    }
   ],
   "source": [
    "print(f\"The DataFrame has {df.shape[0]} rows and {df.shape[1]} columns.\")"
   ]
  },
  {
   "cell_type": "markdown",
   "id": "39f58963-8bb1-437b-ab08-abbd0de23eeb",
   "metadata": {},
   "source": [
    "3. List all the columns and their data types."
   ]
  },
  {
   "cell_type": "code",
   "execution_count": 4,
   "id": "5237f772-fc50-4c93-b024-6b76a2a65964",
   "metadata": {},
   "outputs": [
    {
     "name": "stdout",
     "output_type": "stream",
     "text": [
      "Columns with their data type: \n",
      "\n",
      "Country name                     object\n",
      "score                           float64\n",
      "Log GDP per capita              float64\n",
      "Social support                  float64\n",
      "Healthy life expectancy         float64\n",
      "Freedom to make life choices    float64\n",
      "Generosity                      float64\n",
      "Perceptions of corruption       float64\n",
      "Dystopia + residual             float64\n",
      "dtype: object\n"
     ]
    }
   ],
   "source": [
    "col_with_dtype = df.dtypes\n",
    "print(\"Columns with their data type: \\n\")\n",
    "print(col_with_dtype)"
   ]
  },
  {
   "cell_type": "markdown",
   "id": "0363aad4-35f6-4110-8b4a-fe1785b4155e",
   "metadata": {},
   "source": [
    "• Basic Statistics:"
   ]
  },
  {
   "cell_type": "markdown",
   "id": "b363601c-4f1b-46b9-bdab-3030fb431d5a",
   "metadata": {},
   "source": [
    "1. Calculate the mean, median, and standard deviation for the Score column."
   ]
  },
  {
   "cell_type": "code",
   "execution_count": 5,
   "id": "cbcd5b15-ab98-417e-8e83-50b69d1c2dc1",
   "metadata": {},
   "outputs": [
    {
     "name": "stdout",
     "output_type": "stream",
     "text": [
      " The mean of Score column is 5.52758041958042\n",
      " The median of Score column is 5.785\n",
      " The standard deviation of Score column is 1.1707165099442993\n"
     ]
    }
   ],
   "source": [
    "score_mean = df['score'].mean()\n",
    "print(f\" The mean of Score column is {score_mean}\")\n",
    "\n",
    "score_median = df['score'].median()\n",
    "print(f\" The median of Score column is {score_median}\")\n",
    "\n",
    "score_std = df['score'].std()\n",
    "print(f\" The standard deviation of Score column is {score_std}\")"
   ]
  },
  {
   "cell_type": "markdown",
   "id": "552a8511-d11d-4921-812c-61f5fbff61a5",
   "metadata": {},
   "source": [
    "2. Identify the country with the highest and lowest happiness scores."
   ]
  },
  {
   "cell_type": "code",
   "execution_count": 6,
   "id": "2d2e0be1-3e22-4e5e-addd-c38e830348a5",
   "metadata": {},
   "outputs": [
    {
     "name": "stdout",
     "output_type": "stream",
     "text": [
      "The country with Highest Happiness score is Finland\n",
      "The country with Lowest Happiness score is Afghanistan\n"
     ]
    }
   ],
   "source": [
    "highest_happiness_score_row = df[df['score']==df['score'].max()]\n",
    "highest_happiness_score_country = highest_happiness_score_row['Country name'].values[0]\n",
    "print(f\"The country with Highest Happiness score is {highest_happiness_score_country}\")\n",
    "\n",
    "lowest_happiness_score_row = df[df['score']==df['score'].min()]\n",
    "lowest_happiness_score_country = lowest_happiness_score_row['Country name'].values[0]\n",
    "print(f\"The country with Lowest Happiness score is {lowest_happiness_score_country}\")"
   ]
  },
  {
   "cell_type": "markdown",
   "id": "90db4db8-fca0-4949-8666-7bae870bebcc",
   "metadata": {},
   "source": [
    "• Missing Values:"
   ]
  },
  {
   "cell_type": "markdown",
   "id": "12678fba-4dd6-45d1-992e-9ee3e29fb28c",
   "metadata": {},
   "source": [
    "1. Check if there are any missing values in the dataset. If so, display the total count for each column."
   ]
  },
  {
   "cell_type": "code",
   "execution_count": 7,
   "id": "a818e840-08ee-42b2-a38a-e4d1207dd03f",
   "metadata": {},
   "outputs": [
    {
     "name": "stdout",
     "output_type": "stream",
     "text": [
      "total count of missing values for each column: \n",
      "\n",
      "Country name                    0\n",
      "score                           0\n",
      "Log GDP per capita              3\n",
      "Social support                  3\n",
      "Healthy life expectancy         3\n",
      "Freedom to make life choices    3\n",
      "Generosity                      3\n",
      "Perceptions of corruption       3\n",
      "Dystopia + residual             3\n",
      "dtype: int64\n"
     ]
    }
   ],
   "source": [
    "total_missing_value_count =df.isnull().sum()\n",
    "print(\"total count of missing values for each column: \\n\")\n",
    "print(total_missing_value_count)"
   ]
  },
  {
   "cell_type": "markdown",
   "id": "b7dc79e8-0cf8-4d68-a120-0178ff866525",
   "metadata": {},
   "source": [
    "• Filtering and Sorting:"
   ]
  },
  {
   "cell_type": "markdown",
   "id": "6ee8f14d-4ab2-4ffb-9b8d-b3be660a2738",
   "metadata": {},
   "source": [
    "1. Filter the dataset to show only the countries with a Score greater than 7.5."
   ]
  },
  {
   "cell_type": "code",
   "execution_count": 8,
   "id": "de3ce793-9fd0-4f5c-852f-fcc32e9b8efa",
   "metadata": {},
   "outputs": [
    {
     "name": "stdout",
     "output_type": "stream",
     "text": [
      "  Country name  score  Log GDP per capita  Social support  \\\n",
      "0      Finland  7.741               1.844           1.572   \n",
      "1      Denmark  7.583               1.908           1.520   \n",
      "2      Iceland  7.525               1.881           1.617   \n",
      "\n",
      "   Healthy life expectancy  Freedom to make life choices  Generosity  \\\n",
      "0                    0.695                         0.859       0.142   \n",
      "1                    0.699                         0.823       0.204   \n",
      "2                    0.718                         0.819       0.258   \n",
      "\n",
      "   Perceptions of corruption  Dystopia + residual  \n",
      "0                      0.546                2.082  \n",
      "1                      0.548                1.881  \n",
      "2                      0.182                2.050  \n"
     ]
    }
   ],
   "source": [
    "greater_countries_score= df[df['score']>7.5]\n",
    "print(greater_countries_score)"
   ]
  },
  {
   "cell_type": "markdown",
   "id": "5432d787-7fb4-405d-bf0e-f0e0aafc760b",
   "metadata": {},
   "source": [
    "2. For the filtered dataset - Sort the dataset by GDP per Capita in descending order and display the\n",
    "top 10 rows."
   ]
  },
  {
   "cell_type": "code",
   "execution_count": 9,
   "id": "88f86f85-bfc0-42c9-afd0-39eac8d57a82",
   "metadata": {},
   "outputs": [
    {
     "name": "stdout",
     "output_type": "stream",
     "text": [
      "  Country name  score  Log GDP per capita  Social support  \\\n",
      "1      Denmark  7.583               1.908           1.520   \n",
      "2      Iceland  7.525               1.881           1.617   \n",
      "0      Finland  7.741               1.844           1.572   \n",
      "\n",
      "   Healthy life expectancy  Freedom to make life choices  Generosity  \\\n",
      "1                    0.699                         0.823       0.204   \n",
      "2                    0.718                         0.819       0.258   \n",
      "0                    0.695                         0.859       0.142   \n",
      "\n",
      "   Perceptions of corruption  Dystopia + residual  \n",
      "1                      0.548                1.881  \n",
      "2                      0.182                2.050  \n",
      "0                      0.546                2.082  \n"
     ]
    }
   ],
   "source": [
    "sort_greater_countries_score = greater_countries_score.sort_values(by='Log GDP per capita', ascending=False)\n",
    "print(sort_greater_countries_score.head(10))"
   ]
  },
  {
   "cell_type": "markdown",
   "id": "332c57e8-475d-4b5d-bd22-efbe805f900d",
   "metadata": {},
   "source": [
    "• Adding New Columns:\n",
    "1. Create a new column called Happiness Category that categorizes countries into three categories\n",
    "based on their Score:\n",
    "\n",
    "Low − (Score < 4)\n",
    "Medium − (4 ≤ Score ≤ 6)\n",
    "High − (Score > 6)"
   ]
  },
  {
   "cell_type": "code",
   "execution_count": 15,
   "id": "a74a54df-98d9-44ef-84ca-1f6ebaf217c9",
   "metadata": {},
   "outputs": [
    {
     "name": "stdout",
     "output_type": "stream",
     "text": [
      "         Country name  score  Log GDP per capita  Social support  \\\n",
      "0             Finland  7.741               1.844           1.572   \n",
      "1             Denmark  7.583               1.908           1.520   \n",
      "2             Iceland  7.525               1.881           1.617   \n",
      "3              Sweden  7.344               1.878           1.501   \n",
      "4              Israel  7.341               1.803           1.513   \n",
      "..                ...    ...                 ...             ...   \n",
      "138  Congo (Kinshasa)  3.295               0.534           0.665   \n",
      "139      Sierra Leone  3.245               0.654           0.566   \n",
      "140           Lesotho  3.186               0.771           0.851   \n",
      "141           Lebanon  2.707               1.377           0.577   \n",
      "142       Afghanistan  1.721               0.628           0.000   \n",
      "\n",
      "     Healthy life expectancy  Freedom to make life choices  Generosity  \\\n",
      "0                      0.695                         0.859       0.142   \n",
      "1                      0.699                         0.823       0.204   \n",
      "2                      0.718                         0.819       0.258   \n",
      "3                      0.724                         0.838       0.221   \n",
      "4                      0.740                         0.641       0.153   \n",
      "..                       ...                           ...         ...   \n",
      "138                    0.262                         0.473       0.189   \n",
      "139                    0.253                         0.469       0.181   \n",
      "140                    0.000                         0.523       0.082   \n",
      "141                    0.556                         0.173       0.068   \n",
      "142                    0.242                         0.000       0.091   \n",
      "\n",
      "     Perceptions of corruption  Dystopia + residual Happiness_Category  \n",
      "0                        0.546                2.082               High  \n",
      "1                        0.548                1.881               High  \n",
      "2                        0.182                2.050               High  \n",
      "3                        0.524                1.658               High  \n",
      "4                        0.193                2.298               High  \n",
      "..                         ...                  ...                ...  \n",
      "138                      0.072                1.102                Low  \n",
      "139                      0.053                1.068                Low  \n",
      "140                      0.085                0.875                Low  \n",
      "141                      0.029               -0.073                Low  \n",
      "142                      0.088                0.672                Low  \n",
      "\n",
      "[143 rows x 10 columns]\n"
     ]
    }
   ],
   "source": [
    "# Define a function for categorization\n",
    "def categorize_happiness(score):\n",
    "    if (score < 4):\n",
    "        return 'Low'\n",
    "    elif(4 <= score <= 6):\n",
    "        return 'Medium'\n",
    "    else:\n",
    "        return 'High'\n",
    "\n",
    "df['Happiness_Category'] = df['score'].apply(categorize_happiness)\n",
    "print(df)"
   ]
  },
  {
   "cell_type": "markdown",
   "id": "1a909422-801b-418e-9438-0425daa6f5ac",
   "metadata": {},
   "source": [
    "2. Data Visualizations:"
   ]
  },
  {
   "cell_type": "markdown",
   "id": "3ade91aa-6ad4-4f90-adcc-92553d222604",
   "metadata": {},
   "source": [
    "• Bar Plot: Plot the top 10 happiest countries by Score using a bar chart."
   ]
  },
  {
   "cell_type": "code",
   "execution_count": 38,
   "id": "175bdd6f-c08d-400f-8d6c-f28bfa5689bb",
   "metadata": {},
   "outputs": [
    {
     "data": {
      "image/png": "[encoded data removed]",
      "text/plain": [
       "<Figure size 1000x600 with 1 Axes>"
      ]
     },
     "metadata": {},
     "output_type": "display_data"
    }
   ],
   "source": [
    "happiest_countries_by_score = df[df['Happiness_Category']=='High']\n",
    "#filtering top 10 happiest countries\n",
    "top_10_happiest_countries = happiest_countries_by_score.nlargest(10,'score')\n",
    "\n",
    "plt.figure(figsize = (10,6))\n",
    "plt.bar(top_10_happiest_countries['Country name'], top_10_happiest_countries['score'])\n",
    "plt.title('Top 10 Happiest Countries by Score', fontsize=16)\n",
    "plt.xlabel('Country', fontsize=12)\n",
    "plt.ylabel('Happiness Score', fontsize=12)\n",
    "plt.xticks(rotation=45, ha='right')\n",
    "plt.tight_layout()\n",
    "plt.show()"
   ]
  },
  {
   "cell_type": "code",
   "execution_count": 43,
   "id": "6d05d6ef-8024-4a85-8530-322e069f1ce1",
   "metadata": {},
   "outputs": [
    {
     "ename": "TypeError",
     "evalue": "DataFrame.nsmallest() got an unexpected keyword argument 'ascending'",
     "output_type": "error",
     "traceback": [
      "\u001b[1;31m---------------------------------------------------------------------------\u001b[0m",
      "\u001b[1;31mTypeError\u001b[0m                                 Traceback (most recent call last)",
      "Cell \u001b[1;32mIn[43], line 2\u001b[0m\n\u001b[0;32m      1\u001b[0m unhappiest_countries_by_score \u001b[38;5;241m=\u001b[39m df[df[\u001b[38;5;124m'\u001b[39m\u001b[38;5;124mHappiness_Category\u001b[39m\u001b[38;5;124m'\u001b[39m]\u001b[38;5;241m==\u001b[39m\u001b[38;5;124m'\u001b[39m\u001b[38;5;124mLow\u001b[39m\u001b[38;5;124m'\u001b[39m]\n\u001b[1;32m----> 2\u001b[0m top_10_unhappiest_countries \u001b[38;5;241m=\u001b[39m \u001b[43munhappiest_countries_by_score\u001b[49m\u001b[38;5;241;43m.\u001b[39;49m\u001b[43mnsmallest\u001b[49m\u001b[43m(\u001b[49m\u001b[38;5;241;43m10\u001b[39;49m\u001b[43m,\u001b[49m\u001b[43m \u001b[49m\u001b[38;5;124;43m'\u001b[39;49m\u001b[38;5;124;43mscore\u001b[39;49m\u001b[38;5;124;43m'\u001b[39;49m\u001b[43m,\u001b[49m\u001b[43m \u001b[49m\u001b[43mascending\u001b[49m\u001b[38;5;241;43m=\u001b[39;49m\u001b[38;5;28;43;01mFalse\u001b[39;49;00m\u001b[43m)\u001b[49m\n\u001b[0;32m      4\u001b[0m plt\u001b[38;5;241m.\u001b[39mfigure(figsize \u001b[38;5;241m=\u001b[39m (\u001b[38;5;241m10\u001b[39m,\u001b[38;5;241m6\u001b[39m))\n\u001b[0;32m      5\u001b[0m plt\u001b[38;5;241m.\u001b[39mplot(top_10_unhappiest_countries[\u001b[38;5;124m'\u001b[39m\u001b[38;5;124mCountry name\u001b[39m\u001b[38;5;124m'\u001b[39m],top_10_unhappiest_countries[\u001b[38;5;124m'\u001b[39m\u001b[38;5;124mscore\u001b[39m\u001b[38;5;124m'\u001b[39m],marker\u001b[38;5;241m=\u001b[39m\u001b[38;5;124m'\u001b[39m\u001b[38;5;124mo\u001b[39m\u001b[38;5;124m'\u001b[39m,linestyle\u001b[38;5;241m=\u001b[39m\u001b[38;5;124m'\u001b[39m\u001b[38;5;124m-\u001b[39m\u001b[38;5;124m'\u001b[39m, label\u001b[38;5;241m=\u001b[39m\u001b[38;5;124m'\u001b[39m\u001b[38;5;124mUnhappiness Score\u001b[39m\u001b[38;5;124m'\u001b[39m)\n",
      "\u001b[1;31mTypeError\u001b[0m: DataFrame.nsmallest() got an unexpected keyword argument 'ascending'"
     ]
    }
   ],
   "source": [
    "unhappiest_countries_by_score = df[df['Happiness_Category']=='Low']\n",
    "top_10_unhappiest_countries = unhappiest_countries_by_score.nsmallest(10, 'score', ascending=False)\n",
    "\n",
    "plt.figure(figsize = (10,6))\n",
    "plt.plot(top_10_unhappiest_countries['Country name'],top_10_unhappiest_countries['score'],marker='o',linestyle='-', label='Unhappiness Score')\n",
    "plt.title('Top 10 Unhappiest Countries by Score', fontsize=16)\n",
    "plt.xlabel('Country', fontsize=12)\n",
    "plt.ylabel('Unhappiness Score', fontsize=12)\n",
    "plt.xticks(rotation=45, ha='right')\n",
    "plt.legend()\n",
    "plt.grid(True, linestyle='--', alpha=0.5)\n",
    "plt.tight_layout()\n",
    "plt.show()\n"
   ]
  },
  {
   "cell_type": "code",
   "execution_count": null,
   "id": "7b5ea654-809e-4e3b-9504-6972b9132d28",
   "metadata": {},
   "outputs": [],
   "source": []
  }
 ],
 "metadata": {
  "kernelspec": {
   "display_name": "Python 3 (ipykernel)",
   "language": "python",
   "name": "python3"
  },
  "language_info": {
   "codemirror_mode": {
    "name": "ipython",
    "version": 3
   },
   "file_extension": ".py",
   "mimetype": "text/x-python",
   "name": "python",
   "nbconvert_exporter": "python",
   "pygments_lexer": "ipython3",
   "version": "3.13.0"
  }
 },
 "nbformat": 4,
 "nbformat_minor": 5
}
